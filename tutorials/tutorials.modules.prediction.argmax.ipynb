{
 "cells": [
  {
   "cell_type": "markdown",
   "id": "ad12365a",
   "metadata": {
    "cell_marker": "\"\"\""
   },
   "source": [
    "# Argmax Predictor\n",
    "\n",
    "One can use simple argmax predictor for multiclass classification problem."
   ]
  },
  {
   "cell_type": "code",
   "execution_count": null,
   "id": "37f17c91",
   "metadata": {},
   "outputs": [],
   "source": [
    "import numpy as np\n",
    "\n",
    "from autointent.modules.prediction import ArgmaxPredictor"
   ]
  },
  {
   "cell_type": "markdown",
   "id": "4fc1a084",
   "metadata": {
    "cell_marker": "\"\"\""
   },
   "source": [
    "Example usage:"
   ]
  },
  {
   "cell_type": "code",
   "execution_count": null,
   "id": "e5bf91b9",
   "metadata": {},
   "outputs": [],
   "source": [
    "predictor = ArgmaxPredictor()\n",
    "predictor.fit(scores=np.array([[0.1, 0.9]]), labels=[1])\n",
    "scores = np.array([[0.1, 0.9], [0.8, 0.2], [0.3, 0.7]])\n",
    "predictions = predictor.predict(scores)\n",
    "np.testing.assert_array_equal(predictions, np.array([1, 0, 1]))"
   ]
  }
 ],
 "metadata": {
  "jupytext": {
   "cell_metadata_filter": "-all",
   "main_language": "python",
   "notebook_metadata_filter": "-all",
   "text_representation": {
    "extension": ".py",
    "format_name": "percent"
   }
  }
 },
 "nbformat": 4,
 "nbformat_minor": 5
}
