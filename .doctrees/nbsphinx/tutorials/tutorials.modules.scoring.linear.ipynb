{
 "cells": [
  {
   "cell_type": "markdown",
   "id": "0c758906",
   "metadata": {
    "cell_marker": "\"\"\""
   },
   "source": [
    "# Linear Scoring"
   ]
  },
  {
   "cell_type": "code",
   "execution_count": null,
   "id": "4197bc01",
   "metadata": {},
   "outputs": [],
   "source": [
    "import importlib.resources as ires\n",
    "\n",
    "from autointent.context._utils import load_data\n",
    "from autointent.context.data_handler import DataHandler\n",
    "from autointent.modules import LinearScorer"
   ]
  },
  {
   "cell_type": "markdown",
   "id": "a136ace2",
   "metadata": {
    "cell_marker": "\"\"\""
   },
   "source": [
    "Load your dataset in our format:"
   ]
  },
  {
   "cell_type": "code",
   "execution_count": null,
   "id": "1905c7a0",
   "metadata": {},
   "outputs": [],
   "source": [
    "dataset_path = ires.files(\"tests.assets.data\").joinpath(\"clinc_subset.json\")\n",
    "dataset = load_data(dataset_path)"
   ]
  },
  {
   "cell_type": "markdown",
   "id": "851400b1",
   "metadata": {
    "cell_marker": "\"\"\""
   },
   "source": [
    "Split your data into train and dev sets."
   ]
  },
  {
   "cell_type": "code",
   "execution_count": null,
   "id": "fce4c8c4",
   "metadata": {},
   "outputs": [],
   "source": [
    "\n",
    "data_handler = DataHandler(dataset)"
   ]
  },
  {
   "cell_type": "markdown",
   "id": "b0203b39",
   "metadata": {
    "cell_marker": "\"\"\""
   },
   "source": [
    "Initialize scoring module. It will take text and output probabilities for each class."
   ]
  },
  {
   "cell_type": "code",
   "execution_count": null,
   "id": "fc39be99",
   "metadata": {
    "lines_to_next_cell": 2
   },
   "outputs": [],
   "source": [
    "scorer = LinearScorer(embedder_name=\"sergeyzh/rubert-tiny-turbo\", device=\"cpu\", n_jobs=1)"
   ]
  },
  {
   "cell_type": "markdown",
   "id": "5333124e",
   "metadata": {
    "cell_marker": "\"\"\""
   },
   "source": [
    "Train model:"
   ]
  },
  {
   "cell_type": "code",
   "execution_count": null,
   "id": "82511846",
   "metadata": {},
   "outputs": [],
   "source": [
    "\n",
    "scorer.fit(data_handler.train_utterances, data_handler.train_labels)"
   ]
  },
  {
   "cell_type": "markdown",
   "id": "e20b7cfc",
   "metadata": {
    "cell_marker": "\"\"\""
   },
   "source": [
    "We will use the following utterances for testing:"
   ]
  },
  {
   "cell_type": "code",
   "execution_count": null,
   "id": "d8be5b2c",
   "metadata": {},
   "outputs": [],
   "source": [
    "test_data = [\n",
    "    \"why is there a hold on my american saving bank account\",\n",
    "    \"i am nost sure why my account is blocked\",\n",
    "    \"why is there a hold on my capital one checking account\",\n",
    "    \"i think my account is blocked but i do not know the reason\",\n",
    "    \"can you tell me why is my bank account frozen\",\n",
    "]"
   ]
  },
  {
   "cell_type": "markdown",
   "id": "140975b8",
   "metadata": {
    "cell_marker": "\"\"\""
   },
   "source": [
    "Predict:"
   ]
  },
  {
   "cell_type": "code",
   "execution_count": null,
   "id": "d4266d86",
   "metadata": {},
   "outputs": [],
   "source": [
    "\n",
    "scorer.predict(test_data)"
   ]
  },
  {
   "cell_type": "markdown",
   "id": "e533851b",
   "metadata": {
    "cell_marker": "\"\"\""
   },
   "source": [
    "In general, you can obtain rich information about inference. In case of linear scorer it's empty"
   ]
  },
  {
   "cell_type": "code",
   "execution_count": null,
   "id": "0e032f92",
   "metadata": {},
   "outputs": [],
   "source": [
    "\n",
    "predictions, metadata = scorer.predict_with_metadata(test_data)\n",
    "assert metadata is None  # noqa: S101"
   ]
  }
 ],
 "metadata": {
  "jupytext": {
   "cell_metadata_filter": "-all",
   "main_language": "python",
   "notebook_metadata_filter": "-all",
   "text_representation": {
    "extension": ".py",
    "format_name": "percent"
   }
  }
 },
 "nbformat": 4,
 "nbformat_minor": 5
}
