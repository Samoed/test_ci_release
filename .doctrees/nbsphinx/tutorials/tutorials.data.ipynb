{
 "cells": [
  {
   "cell_type": "markdown",
   "id": "5652a6cc",
   "metadata": {
    "cell_marker": "\"\"\""
   },
   "source": [
    "# Working with data"
   ]
  },
  {
   "cell_type": "code",
   "execution_count": null,
   "id": "b78e8daa",
   "metadata": {},
   "outputs": [],
   "source": [
    "import importlib.resources as ires\n",
    "\n",
    "import datasets\n",
    "\n",
    "from autointent.context.data_handler import Dataset"
   ]
  },
  {
   "cell_type": "code",
   "execution_count": null,
   "id": "1c19501d",
   "metadata": {},
   "outputs": [],
   "source": [
    "datasets.logging.disable_progress_bar() # disable tqdm outputs"
   ]
  },
  {
   "cell_type": "markdown",
   "id": "95b559d8",
   "metadata": {
    "cell_marker": "\"\"\""
   },
   "source": [
    "## Creating a dataset\n",
    "\n",
    "To create a dataset, you need to provide a training split containing samples with utterances and labels, as shown below:\n",
    "\n",
    "```json\n",
    "{\n",
    "    \"train\": [\n",
    "        {\n",
    "            \"utterance\": \"Hello!\",\n",
    "            \"label\": 0\n",
    "        },\n",
    "        ...\n",
    "    ]\n",
    "}\n",
    "```\n",
    "\n",
    "For a multilabel dataset, the `label` field should be a list of integers representing the corresponding class labels.\n",
    "\n",
    "### Handling out-of-scope (OOS) samples\n",
    "\n",
    "To indicate that a sample is out-of-scope (OOS), omit the `label` field from the sample dictionary. For example:\n",
    "\n",
    "```json\n",
    "{\n",
    "    \"train\": [\n",
    "        {\n",
    "            \"utterance\": \"OOS request\"\n",
    "        },\n",
    "        ...\n",
    "    ]\n",
    "}\n",
    "```\n",
    "\n",
    "### Validation and test splits\n",
    "\n",
    "By default, a portion of the training split will be allocated for validation and testing.\n",
    "However, you can also specify a test split explicitly:\n",
    "\n",
    "```json\n",
    "{\n",
    "    \"train\": [\n",
    "        {\n",
    "            \"utterance\": \"Hello!\",\n",
    "            \"label\": 0\n",
    "        },\n",
    "        ...\n",
    "    ],\n",
    "    \"test\": [\n",
    "        {\n",
    "            \"utterance\": \"Hi!\",\n",
    "            \"label\": 0\n",
    "        },\n",
    "        ...\n",
    "    ]\n",
    "}\n",
    "```\n",
    "\n",
    "### Adding metadata to intents\n",
    "\n",
    "You can add metadata to intents in your dataset, such as\n",
    "regular expressions, intent names, descriptions, or tags, using the `intents` field:\n",
    "\n",
    "```json\n",
    "{\n",
    "    \"train\": [\n",
    "        {\n",
    "            \"utterance\": \"Hello!\",\n",
    "            \"label\": 0\n",
    "        },\n",
    "        ...\n",
    "    ],\n",
    "    \"intents\": [\n",
    "        {\n",
    "            \"id\": 0,\n",
    "            \"name\": \"greeting\",\n",
    "            \"tags\": [\"conversation_start\"],\n",
    "            \"regexp_partial_match\": [\"\\bhello\\b\"],\n",
    "            \"regexp_full_match\": [\"^hello$\"],\n",
    "            \"description\": \"User wants to initiate a conversation with a greeting.\"\n",
    "        }\n",
    "        ...\n",
    "    ]\n",
    "}\n",
    "```\n",
    "\n",
    "- `name`: A human-readable representation of the intent.\n",
    "- `tags`: Used in multilabel scenarios to predict the most probable class listed in a specific tag.\n",
    "- `regexp_partial_match` and `regexp_full_match`: Used by the `RegExp` module to predict intents based on provided patterns.\n",
    "- `description`: Used by the `DescriptionScorer` to calculate scores based on the similarity between an utterance and intent descriptions.\n",
    "\n",
    "All fields in the `intents` list are optional except for `id`."
   ]
  },
  {
   "cell_type": "markdown",
   "id": "3cc12690",
   "metadata": {
    "cell_marker": "\"\"\""
   },
   "source": [
    "## Loading a dataset\n",
    "\n",
    "There are three main ways to load your dataset:\n",
    "\n",
    "1. From a Python dictionary.\n",
    "2. From a JSON file.\n",
    "3. Directly from the Hugging Face Hub."
   ]
  },
  {
   "cell_type": "markdown",
   "id": "4aafc3d7",
   "metadata": {
    "cell_marker": "\"\"\""
   },
   "source": [
    "### Creating a dataset from a Python dictionary"
   ]
  },
  {
   "cell_type": "code",
   "execution_count": null,
   "id": "a222e0d0",
   "metadata": {},
   "outputs": [],
   "source": [
    "dataset = Dataset.from_dict(\n",
    "    {\n",
    "        \"train\": [\n",
    "            {\n",
    "                \"utterance\": \"Please help me with my card. It won't activate.\",\n",
    "                \"label\": 0,\n",
    "            },\n",
    "            {\n",
    "                \"utterance\": \"I tried but am unable to activate my card.\",\n",
    "                \"label\": 0,\n",
    "            },\n",
    "            {\n",
    "                \"utterance\": \"I want to open an account for my children.\",\n",
    "                \"label\": 1,\n",
    "            },\n",
    "            {\n",
    "                \"utterance\": \"How old do you need to be to use the bank's services?\",\n",
    "                \"label\": 1,\n",
    "            },\n",
    "        ],\n",
    "        \"test\": [\n",
    "            {\n",
    "                \"utterance\": \"I want to start using my card.\",\n",
    "                \"label\": 0,\n",
    "            },\n",
    "            {\n",
    "                \"utterance\": \"How old do I need to be?\",\n",
    "                \"label\": 1,\n",
    "            },\n",
    "        ],\n",
    "        \"intents\": [\n",
    "            {\n",
    "                \"id\": 0,\n",
    "                \"name\": \"activate_my_card\",\n",
    "            },\n",
    "            {\n",
    "                \"id\": 1,\n",
    "                \"name\": \"age_limit\",\n",
    "            },\n",
    "        ],\n",
    "    },\n",
    ")"
   ]
  },
  {
   "cell_type": "markdown",
   "id": "d4bdf991",
   "metadata": {
    "cell_marker": "\"\"\""
   },
   "source": [
    "### Loading a dataset from a file\n",
    "\n",
    "The AutoIntent library includes sample datasets.\n",
    "For example, you can load the `autointent/datafiles/dstc3-20shot.json` file like this:"
   ]
  },
  {
   "cell_type": "code",
   "execution_count": null,
   "id": "7717db86",
   "metadata": {},
   "outputs": [],
   "source": [
    "dataset = Dataset.from_json(\n",
    "    ires.files(\"autointent.datafiles\").joinpath(\"dstc3-20shot.json\"),\n",
    ")"
   ]
  },
  {
   "cell_type": "markdown",
   "id": "f73aa815",
   "metadata": {
    "cell_marker": "\"\"\""
   },
   "source": [
    "### Loading a dataset from the Hugging Face Hub\n",
    "\n",
    "If your dataset on the Hugging Face Hub matches the required format, you can load it directly using its repository ID:"
   ]
  },
  {
   "cell_type": "code",
   "execution_count": null,
   "id": "a11bb8b8",
   "metadata": {},
   "outputs": [],
   "source": [
    "# dataset = Dataset.from_datasets(\"<repo_id>\")"
   ]
  },
  {
   "cell_type": "markdown",
   "id": "3560a711",
   "metadata": {
    "cell_marker": "\"\"\""
   },
   "source": [
    "### Accessing dataset splits"
   ]
  },
  {
   "cell_type": "code",
   "execution_count": null,
   "id": "d60a9390",
   "metadata": {},
   "outputs": [],
   "source": [
    "dataset = Dataset.from_json(\n",
    "    ires.files(\"autointent.datafiles\").joinpath(\"banking77.json\"),\n",
    ")"
   ]
  },
  {
   "cell_type": "markdown",
   "id": "4b1668bb",
   "metadata": {
    "cell_marker": "\"\"\""
   },
   "source": [
    "The `Dataset` class organizes your data as a dictionary of splits (`str: datasets.Dataset`).\n",
    "For example, after initialization, an `oos` key may be added if OOS samples are provided.\n",
    "In the case of the `banking77` dataset, only the `train` split is available, which you can access as shown below:"
   ]
  },
  {
   "cell_type": "code",
   "execution_count": null,
   "id": "b86eceac",
   "metadata": {},
   "outputs": [],
   "source": [
    "dataset[\"train\"]"
   ]
  },
  {
   "cell_type": "markdown",
   "id": "ee90bce6",
   "metadata": {
    "cell_marker": "\"\"\""
   },
   "source": [
    "### Working with dataset splits\n",
    "\n",
    "Each split in the `Dataset` class is an instance of [datasets.Dataset](https://huggingface.co/docs/datasets/en/package_reference/main_classes#datasets.Dataset),\n",
    "so you can work with them accordingly."
   ]
  },
  {
   "cell_type": "code",
   "execution_count": null,
   "id": "cc590791",
   "metadata": {},
   "outputs": [],
   "source": [
    "dataset[\"train\"][:5]  # get first 5 train samples"
   ]
  },
  {
   "cell_type": "markdown",
   "id": "7e2e71f7",
   "metadata": {
    "cell_marker": "\"\"\""
   },
   "source": [
    "### Working with intents\n",
    "\n",
    "Metadata that you added to intents in your dataset is stored in `intents: list[Intent]` attribute."
   ]
  },
  {
   "cell_type": "code",
   "execution_count": null,
   "id": "f3df4997",
   "metadata": {},
   "outputs": [],
   "source": [
    "dataset.intents[0] # get intent (id=0)"
   ]
  },
  {
   "cell_type": "markdown",
   "id": "1a5236f2",
   "metadata": {
    "cell_marker": "\"\"\""
   },
   "source": [
    "### Pushing a dataset to the Hugging Face Hub\n",
    "\n",
    "To share your dataset on the Hugging Face Hub, use the `push_to_hub` method.\n",
    "Ensure that you are logged in using the `huggingface-cli` tool:"
   ]
  },
  {
   "cell_type": "code",
   "execution_count": null,
   "id": "ac7e98b5",
   "metadata": {},
   "outputs": [],
   "source": [
    "# dataset.push_to_hub(\"<repo_id>\")"
   ]
  }
 ],
 "metadata": {
  "jupytext": {
   "cell_metadata_filter": "-all",
   "main_language": "python",
   "notebook_metadata_filter": "-all",
   "text_representation": {
    "extension": ".py",
    "format_name": "percent"
   }
  }
 },
 "nbformat": 4,
 "nbformat_minor": 5
}
