{
 "cells": [
  {
   "cell_type": "markdown",
   "id": "cd7875a1",
   "metadata": {
    "cell_marker": "\"\"\""
   },
   "source": [
    "# Optimization demo"
   ]
  },
  {
   "cell_type": "code",
   "execution_count": null,
   "id": "50626d8b",
   "metadata": {},
   "outputs": [],
   "source": [
    "import importlib.resources as ires\n",
    "from pathlib import Path\n",
    "from typing import Literal\n",
    "from uuid import uuid4\n",
    "\n",
    "from autointent.configs import (\n",
    "    DataConfig,\n",
    "    LoggingConfig,\n",
    "    OptimizationConfig,\n",
    "    TaskConfig,\n",
    "    VectorIndexConfig,\n",
    ")\n",
    "from autointent.pipeline.optimization._cli_endpoint import main as optimize_pipeline\n",
    "from autointent.pipeline.optimization._utils import load_config"
   ]
  },
  {
   "cell_type": "code",
   "execution_count": null,
   "id": "97fde9ec",
   "metadata": {},
   "outputs": [],
   "source": [
    "TaskType = Literal[\"multiclass\", \"multilabel\", \"description\"]\n",
    "\n",
    "\n",
    "def setup_environment() -> tuple[str, str, str]:\n",
    "    logs_dir = ires.files(\"tests\").joinpath(\"logs\") / str(uuid4())\n",
    "    db_dir = logs_dir / \"db\"\n",
    "    dump_dir = logs_dir / \"modules_dump\"\n",
    "    return db_dir, dump_dir, logs_dir\n",
    "\n",
    "\n",
    "def get_search_space_path(task_type: TaskType) -> None:\n",
    "    return ires.files(\"tests.assets.configs\").joinpath(f\"{task_type}.yaml\")\n",
    "\n",
    "\n",
    "def get_search_space(task_type: TaskType) -> None:\n",
    "    path = get_search_space_path(task_type)\n",
    "    return load_config(str(path), multilabel=task_type == \"multilabel\")"
   ]
  },
  {
   "cell_type": "code",
   "execution_count": null,
   "id": "fd5feee9",
   "metadata": {},
   "outputs": [],
   "source": [
    "def optimize(task_type: TaskType) -> None:\n",
    "    db_dir, dump_dir, logs_dir = setup_environment()\n",
    "    config = OptimizationConfig(\n",
    "        data=DataConfig(\n",
    "            train_path=ires.files(\"tests.assets.data\").joinpath(\"clinc_subset.json\"),\n",
    "            force_multilabel=(task_type == \"multilabel\"),\n",
    "        ),\n",
    "        task=TaskConfig(\n",
    "            search_space_path=get_search_space_path(task_type),\n",
    "        ),\n",
    "        vector_index=VectorIndexConfig(\n",
    "            db_dir=db_dir,\n",
    "            device=\"cpu\",\n",
    "        ),\n",
    "        logs=LoggingConfig(\n",
    "            dirpath=Path(logs_dir),\n",
    "        ),\n",
    "    )\n",
    "    optimize_pipeline(config)"
   ]
  },
  {
   "cell_type": "code",
   "execution_count": null,
   "id": "1d9bfd7e",
   "metadata": {},
   "outputs": [],
   "source": [
    "optimize(\"multiclass\")"
   ]
  }
 ],
 "metadata": {
  "jupytext": {
   "cell_metadata_filter": "-all",
   "main_language": "python",
   "notebook_metadata_filter": "-all",
   "text_representation": {
    "extension": ".py",
    "format_name": "percent"
   }
  }
 },
 "nbformat": 4,
 "nbformat_minor": 5
}
